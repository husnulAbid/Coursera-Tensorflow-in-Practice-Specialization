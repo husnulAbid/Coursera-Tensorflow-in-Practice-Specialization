{
  "nbformat": 4,
  "nbformat_minor": 0,
  "metadata": {
    "accelerator": "GPU",
    "colab": {
      "name": "Course_3_Week_3_Transfer Learning, Dropout, RNN, LSTM.ipynb",
      "provenance": [],
      "collapsed_sections": [],
      "toc_visible": true,
      "include_colab_link": true
    },
    "kernelspec": {
      "display_name": "Python 3",
      "name": "python3"
    }
  },
  "cells": [
    {
      "cell_type": "markdown",
      "metadata": {
        "id": "view-in-github",
        "colab_type": "text"
      },
      "source": [
        "<a href=\"https://colab.research.google.com/github/husnulAbid/Tensorflow-in-Practice-Specialization/blob/master/Course_3_Week_3_Transfer_Learning%2C_Dropout%2C_RNN%2C_LSTM.ipynb\" target=\"_parent\"><img src=\"https://colab.research.google.com/assets/colab-badge.svg\" alt=\"Open In Colab\"/></a>"
      ]
    },
    {
      "cell_type": "code",
      "metadata": {
        "id": "zX4Kg8DUTKWO",
        "colab_type": "code",
        "colab": {}
      },
      "source": [
        "#@title Licensed under the Apache License, Version 2.0 (the \"License\");\n",
        "# you may not use this file except in compliance with the License.\n",
        "# You may obtain a copy of the License at\n",
        "#\n",
        "# https://www.apache.org/licenses/LICENSE-2.0\n",
        "#\n",
        "# Unless required by applicable law or agreed to in writing, software\n",
        "# distributed under the License is distributed on an \"AS IS\" BASIS,\n",
        "# WITHOUT WARRANTIES OR CONDITIONS OF ANY KIND, either express or implied.\n",
        "# See the License for the specific language governing permissions and\n",
        "# limitations under the License."
      ],
      "execution_count": null,
      "outputs": []
    },
    {
      "cell_type": "code",
      "metadata": {
        "colab_type": "code",
        "id": "hmA6EzkQJ5jt",
        "colab": {}
      },
      "source": [
        "import json\n",
        "import tensorflow as tf\n",
        "import csv\n",
        "import random\n",
        "import numpy as np\n",
        "\n",
        "from tensorflow.keras.preprocessing.text import Tokenizer\n",
        "from tensorflow.keras.preprocessing.sequence import pad_sequences\n",
        "from tensorflow.keras.utils import to_categorical\n",
        "from tensorflow.keras import regularizers\n",
        "\n",
        "\n",
        "embedding_dim = 100\n",
        "max_length = 16\n",
        "trunc_type='post'\n",
        "padding_type='post'\n",
        "oov_tok = \"<OOV>\"\n",
        "training_size=160000  #Your dataset size here. Experiment using smaller values (i.e. 16000), but don't forget to train on at least 160000 to see the best effects\n",
        "test_portion=.1\n",
        "\n",
        "corpus = []\n"
      ],
      "execution_count": null,
      "outputs": []
    },
    {
      "cell_type": "code",
      "metadata": {
        "colab_type": "code",
        "id": "bM0l_dORKqE0",
        "colab": {
          "base_uri": "https://localhost:8080/",
          "height": 201
        },
        "outputId": "9cd7f9c9-d884-4f1a-d598-c9660e24e4fa"
      },
      "source": [
        "# Note that I cleaned the Stanford dataset to remove LATIN1 encoding to make it easier for Python CSV reader\n",
        "# You can do that yourself with:\n",
        "# iconv -f LATIN1 -t UTF8 training.1600000.processed.noemoticon.csv -o training_cleaned.csv\n",
        "# I then hosted it on my site to make it easier to use in this notebook\n",
        "\n",
        "!wget --no-check-certificate \\\n",
        "    https://storage.googleapis.com/laurencemoroney-blog.appspot.com/training_cleaned.csv \\\n",
        "    -O /tmp/training_cleaned.csv\n",
        "\n",
        "num_sentences = 0\n",
        "\n",
        "with open(\"/tmp/training_cleaned.csv\") as csvfile:\n",
        "    reader = csv.reader(csvfile, delimiter=',')\n",
        "    for row in reader:\n",
        "      # Your Code here. Create list items where the first item is the text, found in row[5], and the second is the label. Note that the label is a '0' or a '4' in the text. When it's the former, make\n",
        "      # your label to be 0, otherwise 1. Keep a count of the number of sentences in num_sentences\n",
        "        list_item=[]\n",
        "        list_item.append(row[5])\n",
        "        this_label=row[0]\n",
        "        if this_label=='0':\n",
        "            list_item.append(0)\n",
        "        else:\n",
        "            list_item.append(1)\n",
        "        num_sentences = num_sentences + 1\n",
        "        corpus.append(list_item)\n"
      ],
      "execution_count": null,
      "outputs": [
        {
          "output_type": "stream",
          "text": [
            "--2020-06-26 05:34:49--  https://storage.googleapis.com/laurencemoroney-blog.appspot.com/training_cleaned.csv\n",
            "Resolving storage.googleapis.com (storage.googleapis.com)... 108.177.119.128, 108.177.126.128, 2a00:1450:4013:c05::80\n",
            "Connecting to storage.googleapis.com (storage.googleapis.com)|108.177.119.128|:443... connected.\n",
            "HTTP request sent, awaiting response... 200 OK\n",
            "Length: 238942690 (228M) [application/octet-stream]\n",
            "Saving to: ‘/tmp/training_cleaned.csv’\n",
            "\n",
            "/tmp/training_clean 100%[===================>] 227.87M   124MB/s    in 1.8s    \n",
            "\n",
            "2020-06-26 05:34:51 (124 MB/s) - ‘/tmp/training_cleaned.csv’ saved [238942690/238942690]\n",
            "\n"
          ],
          "name": "stdout"
        }
      ]
    },
    {
      "cell_type": "code",
      "metadata": {
        "colab_type": "code",
        "id": "3kxblBUjEUX-",
        "colab": {
          "base_uri": "https://localhost:8080/",
          "height": 67
        },
        "outputId": "6ecbc9fd-4884-4c1b-cd10-ea19475c70cc"
      },
      "source": [
        "print(num_sentences)\n",
        "print(len(corpus))\n",
        "print(corpus[1])\n",
        "\n",
        "# Expected Output:\n",
        "# 1600000\n",
        "# 1600000\n",
        "# [\"is upset that he can't update his Facebook by texting it... and might cry as a result  School today also. Blah!\", 0]"
      ],
      "execution_count": null,
      "outputs": [
        {
          "output_type": "stream",
          "text": [
            "1600000\n",
            "1600000\n",
            "[\"@Cyntaxerror  Ha suppose I'll have to wait then \", 0]\n"
          ],
          "name": "stdout"
        }
      ]
    },
    {
      "cell_type": "code",
      "metadata": {
        "colab_type": "code",
        "id": "ohOGz24lsNAD",
        "colab": {}
      },
      "source": [
        "sentences=[]\n",
        "labels=[]\n",
        "random.shuffle(corpus)\n",
        "for x in range(training_size):\n",
        "    sentences.append(corpus[x][0])\n",
        "    labels.append(corpus[x][1])\n",
        "\n",
        "\n",
        "tokenizer = Tokenizer()\n",
        "tokenizer.fit_on_texts(sentences)\n",
        "\n",
        "word_index = tokenizer.word_index\n",
        "vocab_size=len(word_index)\n",
        "\n",
        "sequences = tokenizer.texts_to_sequences(sentences)\n",
        "padded = pad_sequences(sequences, maxlen=max_length, padding=padding_type, truncating=trunc_type)\n",
        "\n",
        "split = int(test_portion * training_size)\n",
        "\n",
        "test_sequences = padded[0:split]\n",
        "training_sequences = padded[split:training_size]\n",
        "test_labels = labels[0:split]\n",
        "training_labels = labels[split:training_size]\n",
        "\n",
        "#\n",
        "#tokenizer = Tokenizer(num_words=vocab_size, oov_token=oov_tok)\n",
        "##tokenizer.fit_on_texts(training_sentences)\n",
        "\n",
        "#word_index = tokenizer.word_index\n",
        "\n",
        "#training_sequences = tokenizer.texts_to_sequences(training_sentences)\n",
        "#training_padded = pad_sequences(training_sequences, maxlen=max_length, padding=padding_type, truncating=trunc_type)\n",
        "\n",
        "#testing_sequences = tokenizer.texts_to_sequences(testing_sentences)\n",
        "#testing_padded = pad_sequences(testing_sequences, maxlen=max_length, padding=padding_type, truncating=trunc_type)\n",
        "#"
      ],
      "execution_count": null,
      "outputs": []
    },
    {
      "cell_type": "code",
      "metadata": {
        "colab_type": "code",
        "id": "gIrtRem1En3N",
        "colab": {
          "base_uri": "https://localhost:8080/",
          "height": 50
        },
        "outputId": "ca3de53d-bc85-45ca-fdd2-335e6bbf9de0"
      },
      "source": [
        "print(vocab_size)\n",
        "print(word_index['i'])\n",
        "# Expected Output\n",
        "# 138858\n",
        "# 1"
      ],
      "execution_count": null,
      "outputs": [
        {
          "output_type": "stream",
          "text": [
            "138765\n",
            "1\n"
          ],
          "name": "stdout"
        }
      ]
    },
    {
      "cell_type": "code",
      "metadata": {
        "colab_type": "code",
        "id": "C1zdgJkusRh0",
        "colab": {
          "base_uri": "https://localhost:8080/",
          "height": 201
        },
        "outputId": "7a6b6c0e-c768-437e-c580-00e9369d8f95"
      },
      "source": [
        "# Note this is the 100 dimension version of GloVe from Stanford\n",
        "# I unzipped and hosted it on my site to make this notebook easier\n",
        "!wget --no-check-certificate \\\n",
        "    https://storage.googleapis.com/laurencemoroney-blog.appspot.com/glove.6B.100d.txt \\\n",
        "    -O /tmp/glove.6B.100d.txt\n",
        "embeddings_index = {};\n",
        "with open('/tmp/glove.6B.100d.txt') as f:\n",
        "    for line in f:\n",
        "        values = line.split();\n",
        "        word = values[0];\n",
        "        coefs = np.asarray(values[1:], dtype='float32');\n",
        "        embeddings_index[word] = coefs;\n",
        "\n",
        "embeddings_matrix = np.zeros((vocab_size+1, embedding_dim));\n",
        "for word, i in word_index.items():\n",
        "    embedding_vector = embeddings_index.get(word);\n",
        "    if embedding_vector is not None:\n",
        "        embeddings_matrix[i] = embedding_vector;"
      ],
      "execution_count": null,
      "outputs": [
        {
          "output_type": "stream",
          "text": [
            "--2020-06-26 05:51:31--  https://storage.googleapis.com/laurencemoroney-blog.appspot.com/glove.6B.100d.txt\n",
            "Resolving storage.googleapis.com (storage.googleapis.com)... 108.177.119.128, 108.177.126.128, 2a00:1450:4013:c03::80\n",
            "Connecting to storage.googleapis.com (storage.googleapis.com)|108.177.119.128|:443... connected.\n",
            "HTTP request sent, awaiting response... 200 OK\n",
            "Length: 347116733 (331M) [text/plain]\n",
            "Saving to: ‘/tmp/glove.6B.100d.txt’\n",
            "\n",
            "/tmp/glove.6B.100d. 100%[===================>] 331.04M   129MB/s    in 2.6s    \n",
            "\n",
            "2020-06-26 05:51:34 (129 MB/s) - ‘/tmp/glove.6B.100d.txt’ saved [347116733/347116733]\n",
            "\n"
          ],
          "name": "stdout"
        }
      ]
    },
    {
      "cell_type": "code",
      "metadata": {
        "colab_type": "code",
        "id": "71NLk_lpFLNt",
        "colab": {
          "base_uri": "https://localhost:8080/",
          "height": 33
        },
        "outputId": "520fb131-a279-4a44-d49e-f9a5593aa9fc"
      },
      "source": [
        "print(len(embeddings_matrix))\n",
        "# Expected Output\n",
        "# 138859"
      ],
      "execution_count": null,
      "outputs": [
        {
          "output_type": "stream",
          "text": [
            "138766\n"
          ],
          "name": "stdout"
        }
      ]
    },
    {
      "cell_type": "code",
      "metadata": {
        "colab_type": "code",
        "id": "iKKvbuEBOGFz",
        "colab": {
          "base_uri": "https://localhost:8080/",
          "height": 1000
        },
        "outputId": "9816177f-0ba2-4378-ef87-2f423d03ac4c"
      },
      "source": [
        "model = tf.keras.Sequential([\n",
        "    tf.keras.layers.Embedding(vocab_size+1, embedding_dim, input_length=max_length, weights=[embeddings_matrix], trainable=False),\n",
        "    tf.keras.layers.Dropout(0.2),\n",
        "    tf.keras.layers.Conv1D(64, 5, activation='relu'),\n",
        "    tf.keras.layers.MaxPooling1D(pool_size=4),\n",
        "    tf.keras.layers.LSTM(64),\n",
        "    tf.keras.layers.Dense(1, activation='sigmoid')\n",
        "])\n",
        "model.compile(loss='binary_crossentropy',optimizer='adam',metrics=['accuracy'])\n",
        "model.summary()\n",
        "\n",
        "training_sequences = np.array(training_sequences)\n",
        "training_labels = np.array(training_labels)\n",
        "test_sequences = np.array(test_sequences)\n",
        "test_labels = np.array(test_labels)\n",
        "\n",
        "num_epochs = 50\n",
        "history = model.fit(training_sequences, training_labels, epochs=num_epochs, validation_data=(test_sequences, test_labels), verbose=2)\n",
        "\n",
        "print(\"Training Complete\")"
      ],
      "execution_count": null,
      "outputs": [
        {
          "output_type": "stream",
          "text": [
            "Model: \"sequential_8\"\n",
            "_________________________________________________________________\n",
            "Layer (type)                 Output Shape              Param #   \n",
            "=================================================================\n",
            "embedding_8 (Embedding)      (None, 16, 100)           13876600  \n",
            "_________________________________________________________________\n",
            "dropout_8 (Dropout)          (None, 16, 100)           0         \n",
            "_________________________________________________________________\n",
            "conv1d_8 (Conv1D)            (None, 12, 64)            32064     \n",
            "_________________________________________________________________\n",
            "max_pooling1d_8 (MaxPooling1 (None, 3, 64)             0         \n",
            "_________________________________________________________________\n",
            "lstm_8 (LSTM)                (None, 64)                33024     \n",
            "_________________________________________________________________\n",
            "dense_8 (Dense)              (None, 1)                 65        \n",
            "=================================================================\n",
            "Total params: 13,941,753\n",
            "Trainable params: 65,153\n",
            "Non-trainable params: 13,876,600\n",
            "_________________________________________________________________\n",
            "Epoch 1/50\n",
            "4500/4500 - 16s - loss: 0.5678 - accuracy: 0.6990 - val_loss: 0.5299 - val_accuracy: 0.7327\n",
            "Epoch 2/50\n",
            "4500/4500 - 16s - loss: 0.5264 - accuracy: 0.7332 - val_loss: 0.5098 - val_accuracy: 0.7458\n",
            "Epoch 3/50\n",
            "4500/4500 - 16s - loss: 0.5101 - accuracy: 0.7449 - val_loss: 0.5201 - val_accuracy: 0.7400\n",
            "Epoch 4/50\n",
            "4500/4500 - 16s - loss: 0.5000 - accuracy: 0.7517 - val_loss: 0.5024 - val_accuracy: 0.7511\n",
            "Epoch 5/50\n",
            "4500/4500 - 16s - loss: 0.4906 - accuracy: 0.7581 - val_loss: 0.4956 - val_accuracy: 0.7546\n",
            "Epoch 6/50\n",
            "4500/4500 - 15s - loss: 0.4844 - accuracy: 0.7626 - val_loss: 0.5011 - val_accuracy: 0.7502\n",
            "Epoch 7/50\n",
            "4500/4500 - 16s - loss: 0.4781 - accuracy: 0.7660 - val_loss: 0.4990 - val_accuracy: 0.7521\n",
            "Epoch 8/50\n",
            "4500/4500 - 15s - loss: 0.4716 - accuracy: 0.7697 - val_loss: 0.4991 - val_accuracy: 0.7508\n",
            "Epoch 9/50\n",
            "4500/4500 - 16s - loss: 0.4686 - accuracy: 0.7720 - val_loss: 0.5170 - val_accuracy: 0.7452\n",
            "Epoch 10/50\n",
            "4500/4500 - 16s - loss: 0.4661 - accuracy: 0.7749 - val_loss: 0.4994 - val_accuracy: 0.7527\n",
            "Epoch 11/50\n",
            "4500/4500 - 15s - loss: 0.4634 - accuracy: 0.7754 - val_loss: 0.5004 - val_accuracy: 0.7564\n",
            "Epoch 12/50\n",
            "4500/4500 - 15s - loss: 0.4595 - accuracy: 0.7771 - val_loss: 0.5012 - val_accuracy: 0.7523\n",
            "Epoch 13/50\n",
            "4500/4500 - 15s - loss: 0.4565 - accuracy: 0.7799 - val_loss: 0.5079 - val_accuracy: 0.7531\n",
            "Epoch 14/50\n",
            "4500/4500 - 15s - loss: 0.4538 - accuracy: 0.7812 - val_loss: 0.5008 - val_accuracy: 0.7540\n",
            "Epoch 15/50\n",
            "4500/4500 - 15s - loss: 0.4517 - accuracy: 0.7822 - val_loss: 0.5062 - val_accuracy: 0.7529\n",
            "Epoch 16/50\n",
            "4500/4500 - 15s - loss: 0.4501 - accuracy: 0.7830 - val_loss: 0.5098 - val_accuracy: 0.7518\n",
            "Epoch 17/50\n",
            "4500/4500 - 15s - loss: 0.4484 - accuracy: 0.7849 - val_loss: 0.5071 - val_accuracy: 0.7532\n",
            "Epoch 18/50\n",
            "4500/4500 - 15s - loss: 0.4466 - accuracy: 0.7850 - val_loss: 0.5108 - val_accuracy: 0.7529\n",
            "Epoch 19/50\n",
            "4500/4500 - 15s - loss: 0.4448 - accuracy: 0.7863 - val_loss: 0.5156 - val_accuracy: 0.7484\n",
            "Epoch 20/50\n",
            "4500/4500 - 15s - loss: 0.4449 - accuracy: 0.7861 - val_loss: 0.5082 - val_accuracy: 0.7514\n",
            "Epoch 21/50\n",
            "4500/4500 - 15s - loss: 0.4427 - accuracy: 0.7883 - val_loss: 0.5105 - val_accuracy: 0.7557\n",
            "Epoch 22/50\n",
            "4500/4500 - 15s - loss: 0.4423 - accuracy: 0.7874 - val_loss: 0.5110 - val_accuracy: 0.7546\n",
            "Epoch 23/50\n",
            "4500/4500 - 15s - loss: 0.4404 - accuracy: 0.7895 - val_loss: 0.5109 - val_accuracy: 0.7499\n",
            "Epoch 24/50\n",
            "4500/4500 - 15s - loss: 0.4384 - accuracy: 0.7906 - val_loss: 0.5121 - val_accuracy: 0.7506\n",
            "Epoch 25/50\n",
            "4500/4500 - 15s - loss: 0.4377 - accuracy: 0.7913 - val_loss: 0.5082 - val_accuracy: 0.7529\n",
            "Epoch 26/50\n",
            "4500/4500 - 15s - loss: 0.4372 - accuracy: 0.7922 - val_loss: 0.5099 - val_accuracy: 0.7492\n",
            "Epoch 27/50\n",
            "4500/4500 - 15s - loss: 0.4375 - accuracy: 0.7917 - val_loss: 0.5133 - val_accuracy: 0.7508\n",
            "Epoch 28/50\n",
            "4500/4500 - 15s - loss: 0.4366 - accuracy: 0.7917 - val_loss: 0.5135 - val_accuracy: 0.7501\n",
            "Epoch 29/50\n",
            "4500/4500 - 15s - loss: 0.4338 - accuracy: 0.7930 - val_loss: 0.5147 - val_accuracy: 0.7527\n",
            "Epoch 30/50\n",
            "4500/4500 - 16s - loss: 0.4318 - accuracy: 0.7943 - val_loss: 0.5149 - val_accuracy: 0.7526\n",
            "Epoch 31/50\n",
            "4500/4500 - 15s - loss: 0.4340 - accuracy: 0.7932 - val_loss: 0.5135 - val_accuracy: 0.7514\n",
            "Epoch 32/50\n",
            "4500/4500 - 15s - loss: 0.4332 - accuracy: 0.7928 - val_loss: 0.5149 - val_accuracy: 0.7553\n",
            "Epoch 33/50\n",
            "4500/4500 - 15s - loss: 0.4312 - accuracy: 0.7945 - val_loss: 0.5190 - val_accuracy: 0.7483\n",
            "Epoch 34/50\n",
            "4500/4500 - 15s - loss: 0.4332 - accuracy: 0.7939 - val_loss: 0.5163 - val_accuracy: 0.7503\n",
            "Epoch 35/50\n",
            "4500/4500 - 15s - loss: 0.4310 - accuracy: 0.7939 - val_loss: 0.5144 - val_accuracy: 0.7493\n",
            "Epoch 36/50\n",
            "4500/4500 - 15s - loss: 0.4306 - accuracy: 0.7943 - val_loss: 0.5156 - val_accuracy: 0.7491\n",
            "Epoch 37/50\n",
            "4500/4500 - 15s - loss: 0.4300 - accuracy: 0.7954 - val_loss: 0.5155 - val_accuracy: 0.7464\n",
            "Epoch 38/50\n",
            "4500/4500 - 15s - loss: 0.4305 - accuracy: 0.7956 - val_loss: 0.5189 - val_accuracy: 0.7486\n",
            "Epoch 39/50\n",
            "4500/4500 - 15s - loss: 0.4286 - accuracy: 0.7968 - val_loss: 0.5201 - val_accuracy: 0.7483\n",
            "Epoch 40/50\n",
            "4500/4500 - 15s - loss: 0.4280 - accuracy: 0.7967 - val_loss: 0.5174 - val_accuracy: 0.7476\n",
            "Epoch 41/50\n",
            "4500/4500 - 15s - loss: 0.4292 - accuracy: 0.7953 - val_loss: 0.5172 - val_accuracy: 0.7533\n",
            "Epoch 42/50\n",
            "4500/4500 - 15s - loss: 0.4293 - accuracy: 0.7965 - val_loss: 0.5187 - val_accuracy: 0.7498\n",
            "Epoch 43/50\n",
            "4500/4500 - 15s - loss: 0.4289 - accuracy: 0.7962 - val_loss: 0.5188 - val_accuracy: 0.7485\n",
            "Epoch 44/50\n",
            "4500/4500 - 15s - loss: 0.4289 - accuracy: 0.7961 - val_loss: 0.5212 - val_accuracy: 0.7494\n",
            "Epoch 45/50\n",
            "4500/4500 - 15s - loss: 0.4279 - accuracy: 0.7974 - val_loss: 0.5179 - val_accuracy: 0.7486\n",
            "Epoch 46/50\n",
            "4500/4500 - 15s - loss: 0.4292 - accuracy: 0.7959 - val_loss: 0.5171 - val_accuracy: 0.7506\n",
            "Epoch 47/50\n",
            "4500/4500 - 15s - loss: 0.4264 - accuracy: 0.7985 - val_loss: 0.5255 - val_accuracy: 0.7483\n",
            "Epoch 48/50\n",
            "4500/4500 - 15s - loss: 0.4281 - accuracy: 0.7974 - val_loss: 0.5223 - val_accuracy: 0.7479\n",
            "Epoch 49/50\n",
            "4500/4500 - 15s - loss: 0.4279 - accuracy: 0.7972 - val_loss: 0.5216 - val_accuracy: 0.7467\n",
            "Epoch 50/50\n",
            "4500/4500 - 15s - loss: 0.4259 - accuracy: 0.7985 - val_loss: 0.5261 - val_accuracy: 0.7466\n",
            "Training Complete\n"
          ],
          "name": "stdout"
        }
      ]
    },
    {
      "cell_type": "code",
      "metadata": {
        "colab_type": "code",
        "id": "qxju4ItJKO8F",
        "colab": {
          "base_uri": "https://localhost:8080/",
          "height": 606
        },
        "outputId": "eef1b5ab-5e62-4868-f128-786f6855ab62"
      },
      "source": [
        "import matplotlib.image  as mpimg\n",
        "import matplotlib.pyplot as plt\n",
        "\n",
        "#-----------------------------------------------------------\n",
        "# Retrieve a list of list results on training and test data\n",
        "# sets for each training epoch\n",
        "#-----------------------------------------------------------\n",
        "acc=history.history['accuracy']\n",
        "val_acc=history.history['val_accuracy']\n",
        "loss=history.history['loss']\n",
        "val_loss=history.history['val_loss']\n",
        "\n",
        "epochs=range(len(acc)) # Get number of epochs\n",
        "\n",
        "#------------------------------------------------\n",
        "# Plot training and validation accuracy per epoch\n",
        "#------------------------------------------------\n",
        "plt.plot(epochs, acc, 'r')\n",
        "plt.plot(epochs, val_acc, 'b')\n",
        "plt.title('Training and validation accuracy')\n",
        "plt.xlabel(\"Epochs\")\n",
        "plt.ylabel(\"Accuracy\")\n",
        "plt.legend([\"Accuracy\", \"Validation Accuracy\"])\n",
        "\n",
        "plt.figure()\n",
        "\n",
        "#------------------------------------------------\n",
        "# Plot training and validation loss per epoch\n",
        "#------------------------------------------------\n",
        "plt.plot(epochs, loss, 'r')\n",
        "plt.plot(epochs, val_loss, 'b')\n",
        "plt.title('Training and validation loss')\n",
        "plt.xlabel(\"Epochs\")\n",
        "plt.ylabel(\"Loss\")\n",
        "plt.legend([\"Loss\", \"Validation Loss\"])\n",
        "\n",
        "plt.figure()\n",
        "\n",
        "\n",
        "# Expected Output\n",
        "# A chart where the validation loss does not increase sharply!"
      ],
      "execution_count": null,
      "outputs": [
        {
          "output_type": "execute_result",
          "data": {
            "text/plain": [
              "<Figure size 432x288 with 0 Axes>"
            ]
          },
          "metadata": {
            "tags": []
          },
          "execution_count": 46
        },
        {
          "output_type": "display_data",
          "data": {
            "image/png": "[encoded data removed]",
            "text/plain": [
              "<Figure size 432x288 with 1 Axes>"
            ]
          },
          "metadata": {
            "tags": [],
            "needs_background": "light"
          }
        },
        {
          "output_type": "display_data",
          "data": {
            "image/png": "[encoded data removed]",
            "text/plain": [
              "<Figure size 432x288 with 1 Axes>"
            ]
          },
          "metadata": {
            "tags": [],
            "needs_background": "light"
          }
        },
        {
          "output_type": "display_data",
          "data": {
            "text/plain": [
              "<Figure size 432x288 with 0 Axes>"
            ]
          },
          "metadata": {
            "tags": []
          }
        }
      ]
    }
  ]
}