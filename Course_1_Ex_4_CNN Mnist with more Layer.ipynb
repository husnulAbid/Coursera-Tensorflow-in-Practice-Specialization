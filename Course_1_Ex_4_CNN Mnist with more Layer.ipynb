{
  "nbformat": 4,
  "nbformat_minor": 0,
  "metadata": {
    "colab": {
      "name": "Course_1_Ex_4 Question.ipynb",
      "provenance": [],
      "toc_visible": true,
      "include_colab_link": true
    },
    "kernelspec": {
      "display_name": "Python 3",
      "name": "python3"
    }
  },
  "cells": [
    {
      "cell_type": "markdown",
      "metadata": {
        "id": "view-in-github",
        "colab_type": "text"
      },
      "source": [
        "<a href=\"https://colab.research.google.com/github/husnulAbid/Tensorflow-in-Practice-Specialization/blob/master/Course_1_Ex_4_Question.ipynb\" target=\"_parent\"><img src=\"https://colab.research.google.com/assets/colab-badge.svg\" alt=\"Open In Colab\"/></a>"
      ]
    },
    {
      "cell_type": "code",
      "metadata": {
        "id": "zX4Kg8DUTKWO",
        "colab_type": "code",
        "colab": {}
      },
      "source": [
        "#@title Licensed under the Apache License, Version 2.0 (the \"License\");\n",
        "# you may not use this file except in compliance with the License.\n",
        "# You may obtain a copy of the License at\n",
        "#\n",
        "# https://www.apache.org/licenses/LICENSE-2.0\n",
        "#\n",
        "# Unless required by applicable law or agreed to in writing, software\n",
        "# distributed under the License is distributed on an \"AS IS\" BASIS,\n",
        "# WITHOUT WARRANTIES OR CONDITIONS OF ANY KIND, either express or implied.\n",
        "# See the License for the specific language governing permissions and\n",
        "# limitations under the License."
      ],
      "execution_count": null,
      "outputs": []
    },
    {
      "cell_type": "markdown",
      "metadata": {
        "colab_type": "text",
        "id": "UncprnB0ymAE"
      },
      "source": [
        "Below is code with a link to a happy or sad dataset which contains 80 images, 40 happy and 40 sad. \n",
        "Create a convolutional neural network that trains to 100% accuracy on these images,  which cancels training upon hitting training accuracy of >.999\n",
        "\n",
        "Hint -- it will work best with 3 convolutional layers."
      ]
    },
    {
      "cell_type": "code",
      "metadata": {
        "colab_type": "code",
        "id": "7Vti6p3PxmpS",
        "colab": {
          "base_uri": "https://localhost:8080/",
          "height": 201
        },
        "outputId": "e865f50e-3270-4bc4-88b2-024d26924cd7"
      },
      "source": [
        "import tensorflow as tf\n",
        "import os\n",
        "import zipfile\n",
        "\n",
        "\n",
        "DESIRED_ACCURACY = 0.999\n",
        "\n",
        "!wget --no-check-certificate \\\n",
        "    \"https://storage.googleapis.com/laurencemoroney-blog.appspot.com/happy-or-sad.zip\" \\\n",
        "    -O \"/tmp/happy-or-sad.zip\"\n",
        "\n",
        "zip_ref = zipfile.ZipFile(\"/tmp/happy-or-sad.zip\", 'r')\n",
        "zip_ref.extractall(\"/tmp/h-or-s\")\n",
        "zip_ref.close()\n",
        "\n",
        "DESIRED_ACCURACY = 0.999\n",
        "\n",
        "\n",
        "class myCallback(tf.keras.callbacks.Callback):\n",
        "  def on_epoch_end(self, epoch, logs={}):\n",
        "    if(logs.get('accuracy')>DESIRED_ACCURACY):\n",
        "      print(\"\\nReached 99.9% accuracy so cancelling training!\")\n",
        "      self.model.stop_training = True\n",
        "    \n",
        "\n",
        "callbacks = myCallback()"
      ],
      "execution_count": null,
      "outputs": [
        {
          "output_type": "stream",
          "text": [
            "--2020-06-18 12:01:37--  https://storage.googleapis.com/laurencemoroney-blog.appspot.com/happy-or-sad.zip\n",
            "Resolving storage.googleapis.com (storage.googleapis.com)... 173.194.216.128, 2607:f8b0:400c:c13::80\n",
            "Connecting to storage.googleapis.com (storage.googleapis.com)|173.194.216.128|:443... connected.\n",
            "HTTP request sent, awaiting response... 200 OK\n",
            "Length: 2670333 (2.5M) [application/zip]\n",
            "Saving to: ‘/tmp/happy-or-sad.zip’\n",
            "\n",
            "\r/tmp/happy-or-sad.z   0%[                    ]       0  --.-KB/s               \r/tmp/happy-or-sad.z 100%[===================>]   2.55M  --.-KB/s    in 0.02s   \n",
            "\n",
            "2020-06-18 12:01:37 (129 MB/s) - ‘/tmp/happy-or-sad.zip’ saved [2670333/2670333]\n",
            "\n"
          ],
          "name": "stdout"
        }
      ]
    },
    {
      "cell_type": "code",
      "metadata": {
        "colab_type": "code",
        "id": "6DLGbXXI1j_V",
        "colab": {}
      },
      "source": [
        "# This Code Block should Define and Compile the Model\n",
        "model = tf.keras.models.Sequential([\n",
        "        tf.keras.layers.Conv2D(16, (3,3), activation='relu', input_shape=(150, 150, 3)),\n",
        "        tf.keras.layers.MaxPooling2D(2, 2),\n",
        "    # The second convolution\n",
        "        tf.keras.layers.Conv2D(32, (3,3), activation='relu'),\n",
        "        tf.keras.layers.MaxPooling2D(2,2),\n",
        "    # The third convolution\n",
        "        tf.keras.layers.Conv2D(64, (3,3), activation='relu'),\n",
        "        tf.keras.layers.MaxPooling2D(2,2),\n",
        "    # The fourth convolution\n",
        "        tf.keras.layers.Conv2D(64, (3,3), activation='relu'),\n",
        "        tf.keras.layers.MaxPooling2D(2,2),\n",
        "    # The fifth convolution\n",
        "        tf.keras.layers.Conv2D(64, (3,3), activation='relu'),\n",
        "        tf.keras.layers.MaxPooling2D(2,2),\n",
        "    # Flatten the results to feed into a DNN\n",
        "        tf.keras.layers.Flatten(),\n",
        "    # 512 neuron hidden layer\n",
        "        tf.keras.layers.Dense(512, activation='relu'),\n",
        "    # Only 1 output neuron. It will contain a value from 0-1 where 0 for 1 class ('horses') and 1 for the other ('humans')\n",
        "        tf.keras.layers.Dense(1, activation='sigmoid')\n",
        "    ])\n",
        "\n",
        "from tensorflow.keras.optimizers import RMSprop\n",
        "\n",
        "model.compile(loss='binary_crossentropy',\n",
        "              optimizer=RMSprop(lr=0.001),\n",
        "              metrics=['accuracy'])"
      ],
      "execution_count": null,
      "outputs": []
    },
    {
      "cell_type": "code",
      "metadata": {
        "colab_type": "code",
        "id": "4Ap9fUJE1vVu",
        "colab": {
          "base_uri": "https://localhost:8080/",
          "height": 33
        },
        "outputId": "e03600aa-03e8-4f23-ac68-9a23d4f12d14"
      },
      "source": [
        "# This code block should create an instance of an ImageDataGenerator called train_datagen \n",
        "# And a train_generator by calling train_datagen.flow_from_directory\n",
        "\n",
        "from tensorflow.keras.preprocessing.image import ImageDataGenerator\n",
        "\n",
        "train_datagen = ImageDataGenerator(rescale=1/255)\n",
        "\n",
        "    # Please use a target_size of 150 X 150.\n",
        "train_generator = train_datagen.flow_from_directory(\n",
        "        '/tmp/h-or-s',  # This is the source directory for training images\n",
        "        target_size=(150, 150),  # All images will be resized to 150x150\n",
        "        batch_size=80,\n",
        "        # Since we use binary_crossentropy loss, we need binary labels\n",
        "        class_mode='binary')\n",
        "        # Your Code Here)\n",
        "    # Expected output: 'Found 80 images belonging to 2 classes'\n",
        "\n",
        "    # This code block should call model.fit_generator and train for\n",
        "    # a number of epochs.\n",
        "    # model fitting\n",
        "\n",
        "# Expected output: 'Found 80 images belonging to 2 classes'"
      ],
      "execution_count": null,
      "outputs": [
        {
          "output_type": "stream",
          "text": [
            "Found 80 images belonging to 2 classes.\n"
          ],
          "name": "stdout"
        }
      ]
    },
    {
      "cell_type": "code",
      "metadata": {
        "colab_type": "code",
        "id": "48dLm13U1-Le",
        "colab": {
          "base_uri": "https://localhost:8080/",
          "height": 1000
        },
        "outputId": "db05105f-cf56-4a48-b325-eeba56181a61"
      },
      "source": [
        "# This code block should call model.fit and train for\n",
        "# a number of epochs. \n",
        "history = model.fit_generator(train_generator,  epochs=500,callbacks=[callbacks])\n",
        "    \n",
        "# Expected output: \"Reached 99.9% accuracy so cancelling training!\"\""
      ],
      "execution_count": null,
      "outputs": [
        {
          "output_type": "stream",
          "text": [
            "Epoch 1/500\n",
            "1/1 [==============================] - 0s 1ms/step - loss: 0.6928 - accuracy: 0.5000\n",
            "Epoch 2/500\n",
            "1/1 [==============================] - 0s 3ms/step - loss: 0.8724 - accuracy: 0.5000\n",
            "Epoch 3/500\n",
            "1/1 [==============================] - 0s 3ms/step - loss: 0.6926 - accuracy: 0.5000\n",
            "Epoch 4/500\n",
            "1/1 [==============================] - 0s 3ms/step - loss: 0.6823 - accuracy: 0.9125\n",
            "Epoch 5/500\n",
            "1/1 [==============================] - 0s 3ms/step - loss: 0.6638 - accuracy: 0.9125\n",
            "Epoch 6/500\n",
            "1/1 [==============================] - 0s 3ms/step - loss: 0.6330 - accuracy: 0.7250\n",
            "Epoch 7/500\n",
            "1/1 [==============================] - 0s 3ms/step - loss: 0.7188 - accuracy: 0.5000\n",
            "Epoch 8/500\n",
            "1/1 [==============================] - 0s 3ms/step - loss: 0.6610 - accuracy: 0.5000\n",
            "Epoch 9/500\n",
            "1/1 [==============================] - 0s 6ms/step - loss: 0.6276 - accuracy: 0.9375\n",
            "Epoch 10/500\n",
            "1/1 [==============================] - 0s 3ms/step - loss: 0.5496 - accuracy: 0.7500\n",
            "Epoch 11/500\n",
            "1/1 [==============================] - 0s 3ms/step - loss: 0.4398 - accuracy: 0.9125\n",
            "Epoch 12/500\n",
            "1/1 [==============================] - 0s 3ms/step - loss: 1.0776 - accuracy: 0.5000\n",
            "Epoch 13/500\n",
            "1/1 [==============================] - 0s 3ms/step - loss: 0.7554 - accuracy: 0.5000\n",
            "Epoch 14/500\n",
            "1/1 [==============================] - 0s 3ms/step - loss: 0.4931 - accuracy: 0.9375\n",
            "Epoch 15/500\n",
            "1/1 [==============================] - 0s 3ms/step - loss: 0.3983 - accuracy: 0.9375\n",
            "Epoch 16/500\n",
            "1/1 [==============================] - 0s 4ms/step - loss: 0.3087 - accuracy: 0.9250\n",
            "Epoch 17/500\n",
            "1/1 [==============================] - 0s 3ms/step - loss: 0.2382 - accuracy: 0.9375\n",
            "Epoch 18/500\n",
            "1/1 [==============================] - 0s 3ms/step - loss: 0.1982 - accuracy: 0.9375\n",
            "Epoch 19/500\n",
            "1/1 [==============================] - 0s 3ms/step - loss: 0.2603 - accuracy: 0.8875\n",
            "Epoch 20/500\n",
            "1/1 [==============================] - 0s 3ms/step - loss: 1.4165 - accuracy: 0.5000\n",
            "Epoch 21/500\n",
            "1/1 [==============================] - 0s 3ms/step - loss: 0.4680 - accuracy: 0.7500\n",
            "Epoch 22/500\n",
            "1/1 [==============================] - 0s 3ms/step - loss: 0.2667 - accuracy: 0.9375\n",
            "Epoch 23/500\n",
            "1/1 [==============================] - 0s 3ms/step - loss: 0.2332 - accuracy: 0.9375\n",
            "Epoch 24/500\n",
            "1/1 [==============================] - 0s 3ms/step - loss: 0.2097 - accuracy: 0.9375\n",
            "Epoch 25/500\n",
            "1/1 [==============================] - 0s 3ms/step - loss: 0.1920 - accuracy: 0.9375\n",
            "Epoch 26/500\n",
            "1/1 [==============================] - 0s 3ms/step - loss: 0.1768 - accuracy: 0.9375\n",
            "Epoch 27/500\n",
            "1/1 [==============================] - 0s 3ms/step - loss: 0.1642 - accuracy: 0.9375\n",
            "Epoch 28/500\n",
            "1/1 [==============================] - 0s 3ms/step - loss: 0.1741 - accuracy: 0.9000\n",
            "Epoch 29/500\n",
            "1/1 [==============================] - 0s 3ms/step - loss: 0.2686 - accuracy: 0.9125\n",
            "Epoch 30/500\n",
            "1/1 [==============================] - 0s 5ms/step - loss: 0.2048 - accuracy: 0.9250\n",
            "Epoch 31/500\n",
            "1/1 [==============================] - 0s 3ms/step - loss: 0.2439 - accuracy: 0.9125\n",
            "Epoch 32/500\n",
            "1/1 [==============================] - 0s 3ms/step - loss: 0.1533 - accuracy: 0.9500\n",
            "Epoch 33/500\n",
            "1/1 [==============================] - 0s 3ms/step - loss: 0.1411 - accuracy: 0.9375\n",
            "Epoch 34/500\n",
            "1/1 [==============================] - 0s 3ms/step - loss: 0.1362 - accuracy: 0.9500\n",
            "Epoch 35/500\n",
            "1/1 [==============================] - 0s 3ms/step - loss: 0.1558 - accuracy: 0.9375\n",
            "Epoch 36/500\n",
            "1/1 [==============================] - 0s 3ms/step - loss: 0.1941 - accuracy: 0.9125\n",
            "Epoch 37/500\n",
            "1/1 [==============================] - 0s 4ms/step - loss: 0.3568 - accuracy: 0.9000\n",
            "Epoch 38/500\n",
            "1/1 [==============================] - 0s 3ms/step - loss: 0.1473 - accuracy: 0.9500\n",
            "Epoch 39/500\n",
            "1/1 [==============================] - 0s 4ms/step - loss: 0.1304 - accuracy: 0.9375\n",
            "Epoch 40/500\n",
            "1/1 [==============================] - 0s 3ms/step - loss: 0.1161 - accuracy: 0.9625\n",
            "Epoch 41/500\n",
            "1/1 [==============================] - 0s 3ms/step - loss: 0.1153 - accuracy: 0.9375\n",
            "Epoch 42/500\n",
            "1/1 [==============================] - ETA: 0s - loss: 0.1354 - accuracy: 1.0000\n",
            "Reached 99.9% accuracy so cancelling training!\n",
            "1/1 [==============================] - 0s 3ms/step - loss: 0.1354 - accuracy: 1.0000\n"
          ],
          "name": "stdout"
        }
      ]
    }
  ]
}
